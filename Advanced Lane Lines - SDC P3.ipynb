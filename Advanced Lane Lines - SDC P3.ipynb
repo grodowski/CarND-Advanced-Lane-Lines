{
 "cells": [
  {
   "cell_type": "code",
   "execution_count": 1,
   "metadata": {
    "collapsed": false
   },
   "outputs": [],
   "source": [
    "import numpy as np\n",
    "import cv2\n",
    "import matplotlib.pyplot as plt\n",
    "from glob import glob\n",
    "from collections import deque"
   ]
  },
  {
   "cell_type": "code",
   "execution_count": 2,
   "metadata": {
    "collapsed": false
   },
   "outputs": [],
   "source": [
    "# calibrate the camera\n",
    "nx = 9\n",
    "ny = 6\n",
    "objpoints = []\n",
    "imgpoints = []\n",
    "\n",
    "objp = np.zeros((nx * ny, 3), dtype=np.float32)\n",
    "objp[:,:2] = np.mgrid[0:nx,0:ny].T.reshape(-1,2)\n",
    "\n",
    "for impath in glob('camera_cal/*.jpg'):\n",
    "    # Find the chessboard corners\n",
    "    gray = cv2.cvtColor(cv2.imread(impath), cv2.COLOR_BGR2GRAY)\n",
    "    ret, corners = cv2.findChessboardCorners(gray, (nx, ny), None)\n",
    "    if ret is True:\n",
    "        imgpoints.append(corners)\n",
    "        objpoints.append(objp)\n",
    "\n",
    "ret, mtx, dist, rvecs, tvecs = cv2.calibrateCamera(objpoints, imgpoints, gray.shape[::-1], None, None)\n",
    "\n",
    "# 2. use a function from one of the quizes, skip params\n",
    "def cal_undistort(img):\n",
    "    # Use cv2.calibrateCamera() and cv2.undistort()\n",
    "    return cv2.undistort(img, mtx, dist, None, mtx)"
   ]
  },
  {
   "cell_type": "code",
   "execution_count": 3,
   "metadata": {
    "collapsed": true
   },
   "outputs": [],
   "source": [
    "# util functions to combine sobel kernel gradient with saturation thresholding\n",
    "def abs_sobel_thresh(image, orient='x', sobel_kernel=3, thresh=(0, 255)):\n",
    "    gray = cv2.cvtColor(image, cv2.COLOR_RGB2GRAY)\n",
    "    x = int(orient == 'x')\n",
    "    y = int(orient == 'y')\n",
    "    abs_sobel = np.absolute(cv2.Sobel(gray, cv2.CV_64F, x, y, ksize=sobel_kernel))\n",
    "    scaled_sobel = np.uint8(255*abs_sobel/np.max(abs_sobel))\n",
    "    mask = (scaled_sobel >= thresh[0]) & (scaled_sobel <= thresh[1])\n",
    "    binary_output = np.zeros_like(scaled_sobel)\n",
    "    binary_output[mask] = 1\n",
    "    return binary_output\n",
    "\n",
    "def hls_select(img, thresh=(0, 255)):\n",
    "    S = cv2.cvtColor(img, cv2.COLOR_RGB2HLS)[:,:,2]\n",
    "    mask = (S > thresh[0]) & (S <= thresh[1])\n",
    "    binary_output = np.zeros_like(S)\n",
    "    binary_output[mask] = 1\n",
    "    return binary_output"
   ]
  },
  {
   "cell_type": "code",
   "execution_count": 4,
   "metadata": {
    "collapsed": true
   },
   "outputs": [],
   "source": [
    "# combine all preprocessing\n",
    "def preprocess(img):\n",
    "    tmp = cal_undistort(img)\n",
    "    hls = hls_select(tmp, thresh=(140,255))\n",
    "    mag = abs_sobel_thresh(tmp, orient='x',\n",
    "                       sobel_kernel=5,\n",
    "                       thresh=(40,255))\n",
    "    combined = np.zeros_like(hls)\n",
    "    combined[(hls == 1) | (mag == 1)] = 1\n",
    "    return combined"
   ]
  },
  {
   "cell_type": "code",
   "execution_count": 47,
   "metadata": {
    "collapsed": false
   },
   "outputs": [],
   "source": [
    "class Lane():\n",
    "    ym_per_pix = 30/720 # meters per pixel in y dimension\n",
    "    xm_per_pix = 3.7/700 # meters per pixel in x dimension\n",
    "\n",
    "    def __init__(self):\n",
    "        self.fit = None # 2nd order coefficients\n",
    "        self.radius_m = None # radius of curvature\n",
    "        self.offset = None # offset in meters from left edge\n",
    "        self.smooth_hist = deque([], 8)\n",
    "        \n",
    "    def update(self, fit_poly2, fit_poly2_cr, drop_x2_thresh=0.0001):\n",
    "        # updates lane instance if sanity checks are passed   \n",
    "        if self.fit is not None:\n",
    "            if abs(self.fit[0] - fit_poly2[0]) > drop_x2_thresh:\n",
    "                # print(\"skip frame, x2 diff {}\".format(self.fit[0] - fit_poly2[0]))\n",
    "                return\n",
    "        self.fit = self.__avg_poly(fit_poly2)\n",
    "        self.offset = fit_poly2_cr[2]\n",
    "        self.__update_radius(fit_poly2_cr)\n",
    "    \n",
    "    def __avg_poly(self, new_poly):\n",
    "        self.smooth_hist.appendleft(new_poly)\n",
    "        return np.mean(self.smooth_hist, axis=0)\n",
    "    \n",
    "    def __update_radius(self, fit_cr):\n",
    "        # Radius of curvature\n",
    "        y_eval = 719\n",
    "        self.radius_m = ((1 + (2*fit_cr[0]*y_eval*self.ym_per_pix + fit_cr[1])**2)**1.5) / np.absolute(2*fit_cr[0])\n",
    "\n",
    "class Processor():\n",
    "    def __init__(self):\n",
    "        self.M = None\n",
    "        self.Minv = None\n",
    "        self.lane_l = Lane()\n",
    "        self.lane_r = Lane()\n",
    "        \n",
    "    def center_offset(self, centerx):\n",
    "        lx = self.lane_l.offset\n",
    "        rx = self.lane_r.offset\n",
    "        return lx + (rx - lx) / 2 - centerx * Lane.xm_per_pix\n",
    "    \n",
    "    def frame(self, img_orig):\n",
    "        \n",
    "        img = preprocess(img_orig)\n",
    "        img_size = (img.shape[1], img.shape[0])\n",
    "        \n",
    "        if self.M is None:\n",
    "            # warp using the transformation matrix M, cache it\n",
    "            warp_src = np.float32(\n",
    "                [[(img_size[0] / 2) - 55, img_size[1] / 2 + 100],\n",
    "                [((img_size[0] / 6) - 20), img_size[1]],\n",
    "                [(img_size[0] * 5 / 6) + 20, img_size[1]],\n",
    "                [(img_size[0] / 2 + 55), img_size[1] / 2 + 100]])\n",
    "            warp_dst = np.float32(\n",
    "                [[(img_size[0] / 4), 0],\n",
    "                [(img_size[0] / 4), img_size[1]],\n",
    "                [(img_size[0] * 3 / 4), img_size[1]],\n",
    "                [(img_size[0] * 3 / 4), 0]])\n",
    "            self.M = cv2.getPerspectiveTransform(warp_src, warp_dst)\n",
    "            self.Minv = np.linalg.inv(self.M)\n",
    "\n",
    "        warped = cv2.warpPerspective(img, self.M, img_size, flags=cv2.INTER_NEAREST)\n",
    "    \n",
    "        # search using sliding windows\n",
    "        left_fit, left_fit_cr, right_fit, right_fit_cr = self.__slide_window_fit(warped)\n",
    "        self.lane_l.update(left_fit, left_fit_cr)\n",
    "        self.lane_r.update(right_fit, right_fit_cr)\n",
    "        \n",
    "        return self.__draw_fit_unwarped(img_orig, warped)\n",
    "        \n",
    "    def __draw_fit_unwarped(self, original, warped):\n",
    "        # Generate x and y values for plotting\n",
    "        left_fit = self.lane_l.fit\n",
    "        right_fit = self.lane_r.fit\n",
    "        ploty = np.linspace(0, warped.shape[0]-1, warped.shape[0] )\n",
    "        left_fitx = left_fit[0]*ploty**2 + left_fit[1]*ploty + left_fit[2]\n",
    "        right_fitx = right_fit[0]*ploty**2 + right_fit[1]*ploty + right_fit[2]\n",
    "\n",
    "        # Create an image to draw the lines on\n",
    "        warp_zero = np.zeros_like(warped).astype(np.uint8)\n",
    "        color_warp = np.dstack((warp_zero, warp_zero, warp_zero))\n",
    "\n",
    "        # Recast the x and y points into usable format for cv2.fillPoly()\n",
    "        pts_left = np.array([np.transpose(np.vstack([left_fitx, ploty]))])\n",
    "        pts_right = np.array([np.flipud(np.transpose(np.vstack([right_fitx, ploty])))])\n",
    "        pts = np.hstack((pts_left, pts_right))\n",
    "\n",
    "        # Draw the lane onto the warped blank image\n",
    "        cv2.fillPoly(color_warp, np.int_([pts]), (0,255, 0))\n",
    "\n",
    "        # Warp the blank back to original image space using inverse perspective matrix (Minv)\n",
    "        newwarp = cv2.warpPerspective(color_warp, self.Minv, (warped.shape[1], warped.shape[0])) \n",
    "        # Combine the result with the original image\n",
    "        combined = cv2.addWeighted(original, 1, newwarp, 0.3, 0)\n",
    "        cv2.putText(combined,\n",
    "                    \"l_curve: {}m\".format(str(round(self.lane_l.radius_m,2))),\n",
    "                    (20,50),\n",
    "                    cv2.FONT_HERSHEY_DUPLEX,\n",
    "                    1,\n",
    "                    (255,0,0))\n",
    "        cv2.putText(combined,\n",
    "                    \"r_curve: {}m\".format(str(round(self.lane_r.radius_m,2))),\n",
    "                    (20,100),\n",
    "                    cv2.FONT_HERSHEY_DUPLEX,\n",
    "                    1,\n",
    "                    (255,0,0))\n",
    "        cv2.putText(combined,\n",
    "                    \"offset: {}m\".format(str(round(self.center_offset(warped.shape[1] / 2),2))),\n",
    "                    (20,150),\n",
    "                    cv2.FONT_HERSHEY_DUPLEX,\n",
    "                    1,\n",
    "                    (255,0,0))\n",
    "        return combined\n",
    "\n",
    "    def __slide_window_fit(self, binary_warped, nwindows=9):\n",
    "        histogram = np.sum(binary_warped[binary_warped.shape[0]/2:,:], axis=0)\n",
    "        \n",
    "        # select where to begin search from the bottom half of the histogram\n",
    "        x_midpoint = np.int(histogram.shape[0] / 2)\n",
    "        leftx_base = np.argmax(histogram[:x_midpoint])\n",
    "        rightx_base = np.argmax(histogram[x_midpoint:]) + x_midpoint\n",
    "        \n",
    "        # Set height of windows\n",
    "        window_height = np.int(binary_warped.shape[0]/nwindows)\n",
    "        # Identify the x and y positions of all nonzero pixels in the image\n",
    "        nonzero = binary_warped.nonzero()\n",
    "        nonzeroy = np.array(nonzero[0])\n",
    "        nonzerox = np.array(nonzero[1])\n",
    "        # Current positions to be updated for each window\n",
    "        leftx_current = leftx_base\n",
    "        rightx_current = rightx_base\n",
    "        # Set the width of the windows +/- margin\n",
    "        margin = 100\n",
    "        # Set minimum number of pixels found to recenter window\n",
    "        minpix = 50\n",
    "        # Create empty lists to receive left and right lane pixel indices\n",
    "        left_lane_inds = []\n",
    "        right_lane_inds = []\n",
    "\n",
    "        # Step through the windows one by one\n",
    "        for window in range(nwindows):\n",
    "            # Identify window boundaries in x and y (and right and left)\n",
    "            win_y_low = binary_warped.shape[0] - (window+1)*window_height\n",
    "            win_y_high = binary_warped.shape[0] - window*window_height\n",
    "            win_xleft_low = leftx_current - margin\n",
    "            win_xleft_high = leftx_current + margin\n",
    "            win_xright_low = rightx_current - margin\n",
    "            win_xright_high = rightx_current + margin\n",
    "            # Identify the nonzero pixels in x and y within the window\n",
    "            good_left_inds = ((nonzeroy >= win_y_low) & (nonzeroy < win_y_high) & (nonzerox >= win_xleft_low) & (nonzerox < win_xleft_high)).nonzero()[0]\n",
    "            good_right_inds = ((nonzeroy >= win_y_low) & (nonzeroy < win_y_high) & (nonzerox >= win_xright_low) & (nonzerox < win_xright_high)).nonzero()[0]\n",
    "            # Append these indices to the lists\n",
    "            left_lane_inds.append(good_left_inds)\n",
    "            right_lane_inds.append(good_right_inds)\n",
    "            # If you found > minpix pixels, recenter next window on their mean position\n",
    "            if len(good_left_inds) > minpix:\n",
    "                leftx_current = np.int(np.mean(nonzerox[good_left_inds]))\n",
    "            if len(good_right_inds) > minpix:        \n",
    "                rightx_current = np.int(np.mean(nonzerox[good_right_inds]))\n",
    "\n",
    "        # Concatenate the arrays of indices\n",
    "        left_lane_inds = np.concatenate(left_lane_inds)\n",
    "        right_lane_inds = np.concatenate(right_lane_inds)\n",
    "\n",
    "        # Extract left and right line pixel positions\n",
    "        leftx = nonzerox[left_lane_inds]\n",
    "        lefty = nonzeroy[left_lane_inds] \n",
    "        rightx = nonzerox[right_lane_inds]\n",
    "        righty = nonzeroy[right_lane_inds] \n",
    "\n",
    "        # Fit a second order polynomial to each\n",
    "        left_fit = np.polyfit(lefty, leftx, 2)\n",
    "        right_fit = np.polyfit(righty, rightx, 2)\n",
    "\n",
    "        # Fit new polynomials to x,y in world space\n",
    "        left_fit_cr = np.polyfit(lefty*Lane.ym_per_pix, leftx*Lane.xm_per_pix, 2)\n",
    "        right_fit_cr = np.polyfit(righty*Lane.ym_per_pix, rightx*Lane.xm_per_pix, 2)\n",
    "        return left_fit, left_fit_cr, right_fit, right_fit_cr"
   ]
  },
  {
   "cell_type": "code",
   "execution_count": 48,
   "metadata": {
    "collapsed": false
   },
   "outputs": [
    {
     "name": "stdout",
     "output_type": "stream",
     "text": [
      "[MoviePy] >>>> Building video harder_challenge_output.mp4\n",
      "[MoviePy] Writing video harder_challenge_output.mp4\n"
     ]
    },
    {
     "name": "stderr",
     "output_type": "stream",
     "text": [
      "100%|█████████▉| 1199/1200 [04:59<00:00,  5.49it/s]\n"
     ]
    },
    {
     "name": "stdout",
     "output_type": "stream",
     "text": [
      "[MoviePy] Done.\n",
      "[MoviePy] >>>> Video ready: harder_challenge_output.mp4 \n",
      "\n",
      "CPU times: user 4min 42s, sys: 13.2 s, total: 4min 55s\n",
      "Wall time: 5min 2s\n"
     ]
    }
   ],
   "source": [
    "# Import everything needed to edit/save/watch video clips\n",
    "from moviepy.editor import VideoFileClip\n",
    "from IPython.display import HTML\n",
    "\n",
    "p = Processor()\n",
    "\n",
    "output = 'harder_challenge_output.mp4'\n",
    "clip1 = VideoFileClip(\"harder_challenge_video.mp4\")\n",
    "clip = clip1.fl_image(p.frame)\n",
    "%time clip.write_videofile(output, audio=False)"
   ]
  },
  {
   "cell_type": "code",
   "execution_count": 50,
   "metadata": {
    "collapsed": false
   },
   "outputs": [
    {
     "data": {
      "text/html": [
       "\n",
       "<video width=\"960\" height=\"540\" controls>\n",
       "  <source src=\"harder_challenge_output.mp4\">\n",
       "</video>\n"
      ],
      "text/plain": [
       "<IPython.core.display.HTML object>"
      ]
     },
     "execution_count": 50,
     "metadata": {},
     "output_type": "execute_result"
    }
   ],
   "source": [
    "HTML(\"\"\"\n",
    "<video width=\"960\" height=\"540\" controls>\n",
    "  <source src=\"{0}\">\n",
    "</video>\n",
    "\"\"\".format(output))"
   ]
  },
  {
   "cell_type": "code",
   "execution_count": null,
   "metadata": {
    "collapsed": true
   },
   "outputs": [],
   "source": []
  }
 ],
 "metadata": {
  "kernelspec": {
   "display_name": "Python 3",
   "language": "python",
   "name": "python3"
  },
  "language_info": {
   "codemirror_mode": {
    "name": "ipython",
    "version": 3
   },
   "file_extension": ".py",
   "mimetype": "text/x-python",
   "name": "python",
   "nbconvert_exporter": "python",
   "pygments_lexer": "ipython3",
   "version": "3.5.2"
  },
  "widgets": {
   "state": {},
   "version": "1.1.2"
  }
 },
 "nbformat": 4,
 "nbformat_minor": 2
}
